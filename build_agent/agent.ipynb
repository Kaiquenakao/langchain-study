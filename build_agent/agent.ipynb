{
 "cells": [
  {
   "cell_type": "markdown",
   "id": "0ec2969b-6c77-43ee-b85a-af498ee86dfb",
   "metadata": {},
   "source": [
    "Agentes são sistemas que usam LLMs como mecanismos de raciocínio para determinar quais ações realizar e as entradas para passá-las. Após executar ações, os resultados podem ser realimentados no LLM para determinar se mais ações são necessárias ou se está tudo bem para terminar."
   ]
  },
  {
   "cell_type": "code",
   "execution_count": 6,
   "id": "d9f729d8-3e70-4b37-93e0-627621aa6315",
   "metadata": {},
   "outputs": [
    {
     "name": "stdin",
     "output_type": "stream",
     "text": [
      " ········\n"
     ]
    }
   ],
   "source": [
    "import getpass\n",
    "import os\n",
    "\n",
    "os.environ[\"OPENAI_API_KEY\"] = getpass.getpass()\n",
    "\n",
    "from langchain_openai import ChatOpenAI\n",
    "\n",
    "model = ChatOpenAI(model=\"gpt-4\")"
   ]
  },
  {
   "cell_type": "code",
   "execution_count": 7,
   "id": "12dadd11-47fd-4332-9ace-dc69b546be65",
   "metadata": {},
   "outputs": [
    {
     "data": {
      "text/plain": [
       "'Hello! How can I assist you today?'"
      ]
     },
     "execution_count": 7,
     "metadata": {},
     "output_type": "execute_result"
    }
   ],
   "source": [
    "from langchain_core.messages import HumanMessage\n",
    "\n",
    "response = model.invoke([HumanMessage(content=\"hi!\")])\n",
    "response.content"
   ]
  },
  {
   "cell_type": "code",
   "execution_count": null,
   "id": "8de71ac5-09e5-4160-9a11-7eaac9ea3966",
   "metadata": {},
   "outputs": [],
   "source": []
  }
 ],
 "metadata": {
  "kernelspec": {
   "display_name": "Python 3 (ipykernel)",
   "language": "python",
   "name": "python3"
  },
  "language_info": {
   "codemirror_mode": {
    "name": "ipython",
    "version": 3
   },
   "file_extension": ".py",
   "mimetype": "text/x-python",
   "name": "python",
   "nbconvert_exporter": "python",
   "pygments_lexer": "ipython3",
   "version": "3.12.5"
  }
 },
 "nbformat": 4,
 "nbformat_minor": 5
}
