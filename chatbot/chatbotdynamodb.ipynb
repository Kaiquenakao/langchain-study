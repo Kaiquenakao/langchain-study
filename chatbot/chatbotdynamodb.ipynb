{
 "cells": [
  {
   "cell_type": "markdown",
   "id": "7b7bcef1-4411-4550-886c-3bb76ed7095d",
   "metadata": {},
   "source": [
    "DynamoDB com LangChain para histórico de bate-papo\n",
    "Você pode se beneficiar das seguintes vantagens principais ao usar o DynamoDB com o LangChain para gerenciar o histórico de bate-papo:\n",
    "\n",
    "Experiência de usuário aprimorada – Ao usar o DynamoDB para histórico de bate-papo, seu chatbot pode oferecer uma experiência consistente e personalizada. Os usuários podem retomar as conversas de onde pararam, e o chatbot pode usar interações passadas para informar suas respostas.\n",
    "\n",
    "Integração perfeita – O LangChain fornece uma maneira perfeita de integrar com o DynamoDB, permitindo que você armazene e recupere mensagens de bate-papo com sobrecarga mínima. Ao usar a classe DynamoDBChatMessageHistory do LangChain , você pode gerenciar automaticamente o histórico de bate-papo como parte do fluxo de conversa, permitindo que o chatbot mantenha o contexto ao longo do tempo.\n",
    "\n",
    "Escalabilidade aprimorada – Ao construir chatbots que interagem com milhares ou até milhões de usuários, gerenciar o contexto se torna um problema não trivial. A escalabilidade do DynamoDB significa que seu chatbot pode armazenar e recuperar o histórico de conversas em tempo real, não importa quantos usuários estejam interagindo com ele simultaneamente."
   ]
  },
  {
   "cell_type": "code",
   "execution_count": 2,
   "id": "445afee9-a42e-443c-b714-87cdd83d1f0a",
   "metadata": {},
   "outputs": [],
   "source": [
    "from langchain_community.chat_message_histories import (\n",
    "    DynamoDBChatMessageHistory,\n",
    ")"
   ]
  },
  {
   "cell_type": "code",
   "execution_count": 3,
   "id": "a6eaaa06-88bf-401b-8c6f-326b7d7ade10",
   "metadata": {},
   "outputs": [
    {
     "name": "stdout",
     "output_type": "stream",
     "text": [
      "0\n"
     ]
    }
   ],
   "source": [
    "import boto3\n",
    "\n",
    "# Get the service resource.\n",
    "dynamodb = boto3.resource(\"dynamodb\", region_name=\"sa-east-1\")\n",
    "\n",
    "# Create the DynamoDB table.\n",
    "table = dynamodb.create_table(\n",
    "    TableName=\"SessionTable\",\n",
    "    KeySchema=[{\"AttributeName\": \"SessionId\", \"KeyType\": \"HASH\"}],\n",
    "    AttributeDefinitions=[{\"AttributeName\": \"SessionId\", \"AttributeType\": \"S\"}],\n",
    "    BillingMode=\"PAY_PER_REQUEST\",\n",
    ")\n",
    "\n",
    "# Wait until the table exists.\n",
    "table.meta.client.get_waiter(\"table_exists\").wait(TableName=\"SessionTable\")\n",
    "\n",
    "# Print out some data about the table.\n",
    "print(table.item_count)"
   ]
  },
  {
   "cell_type": "code",
   "execution_count": 4,
   "id": "6d96995a-07cc-41d0-8f67-0dc947d23cdb",
   "metadata": {},
   "outputs": [],
   "source": [
    "history = DynamoDBChatMessageHistory(table_name=\"SessionTable\", session_id=\"0\")\n",
    "\n",
    "history.add_user_message(\"hi!\")\n",
    "\n",
    "history.add_ai_message(\"whats up?\")"
   ]
  },
  {
   "cell_type": "code",
   "execution_count": 5,
   "id": "b056cb5e-b248-4e69-aecf-ce97dab07641",
   "metadata": {},
   "outputs": [
    {
     "data": {
      "text/plain": [
       "[HumanMessage(content='hi!', additional_kwargs={}, response_metadata={}),\n",
       " AIMessage(content='whats up?', additional_kwargs={}, response_metadata={})]"
      ]
     },
     "execution_count": 5,
     "metadata": {},
     "output_type": "execute_result"
    }
   ],
   "source": [
    "history.messages"
   ]
  },
  {
   "cell_type": "code",
   "execution_count": 6,
   "id": "458cb019-fd1a-4d87-9595-9186cab1c650",
   "metadata": {},
   "outputs": [],
   "source": [
    "from langchain_core.prompts import ChatPromptTemplate, MessagesPlaceholder\n",
    "from langchain_core.runnables.history import RunnableWithMessageHistory\n",
    "from langchain_openai import ChatOpenAI"
   ]
  },
  {
   "cell_type": "code",
   "execution_count": 9,
   "id": "1b190ea7-4774-43df-8bd5-6c21f4487974",
   "metadata": {},
   "outputs": [],
   "source": [
    "prompt = ChatPromptTemplate.from_messages(\n",
    "    [\n",
    "        (\"system\", \"You are a helpful assistant.\"),\n",
    "        MessagesPlaceholder(variable_name=\"history\"),\n",
    "        (\"human\", \"{question}\"),\n",
    "    ]\n",
    ")\n",
    "\n",
    "chain = prompt | ChatOpenAI(api_key=\"x\")"
   ]
  },
  {
   "cell_type": "code",
   "execution_count": 10,
   "id": "abb36d9a-175f-440d-823f-6ebe40b597b0",
   "metadata": {},
   "outputs": [],
   "source": [
    "chain_with_history = RunnableWithMessageHistory(\n",
    "    chain,\n",
    "    lambda session_id: DynamoDBChatMessageHistory(\n",
    "        table_name=\"SessionTable\", session_id=session_id\n",
    "    ),\n",
    "    input_messages_key=\"question\",\n",
    "    history_messages_key=\"history\",\n",
    ")"
   ]
  },
  {
   "cell_type": "code",
   "execution_count": 11,
   "id": "e8830a0d-6427-4eb9-a956-965690d5ed2e",
   "metadata": {},
   "outputs": [
    {
     "data": {
      "text/plain": [
       "AIMessage(content='Hello Bob! How can I assist you today?', additional_kwargs={'refusal': None}, response_metadata={'token_usage': {'completion_tokens': 10, 'prompt_tokens': 22, 'total_tokens': 32, 'completion_tokens_details': {'accepted_prediction_tokens': 0, 'audio_tokens': 0, 'reasoning_tokens': 0, 'rejected_prediction_tokens': 0}, 'prompt_tokens_details': {'audio_tokens': 0, 'cached_tokens': 0}}, 'model_name': 'gpt-3.5-turbo-0125', 'system_fingerprint': None, 'finish_reason': 'stop', 'logprobs': None}, id='run-d57aaa13-826b-4f7b-b521-392669328f72-0', usage_metadata={'input_tokens': 22, 'output_tokens': 10, 'total_tokens': 32, 'input_token_details': {'audio': 0, 'cache_read': 0}, 'output_token_details': {'audio': 0, 'reasoning': 0}})"
      ]
     },
     "execution_count": 11,
     "metadata": {},
     "output_type": "execute_result"
    }
   ],
   "source": [
    "# This is where we configure the session id\n",
    "config = {\"configurable\": {\"session_id\": \"abc123\"}}\n",
    "\n",
    "chain_with_history.invoke({\"question\": \"Hi! I'm bob\"}, config=config)"
   ]
  },
  {
   "cell_type": "code",
   "execution_count": 12,
   "id": "924d37bf-f089-4cf4-b088-d249e4cc769e",
   "metadata": {},
   "outputs": [
    {
     "data": {
      "text/plain": [
       "AIMessage(content='Your name is Bob.', additional_kwargs={'refusal': None}, response_metadata={'token_usage': {'completion_tokens': 5, 'prompt_tokens': 43, 'total_tokens': 48, 'completion_tokens_details': {'accepted_prediction_tokens': 0, 'audio_tokens': 0, 'reasoning_tokens': 0, 'rejected_prediction_tokens': 0}, 'prompt_tokens_details': {'audio_tokens': 0, 'cached_tokens': 0}}, 'model_name': 'gpt-3.5-turbo-0125', 'system_fingerprint': None, 'finish_reason': 'stop', 'logprobs': None}, id='run-3432137b-86bf-4b80-a533-a0e9002ef756-0', usage_metadata={'input_tokens': 43, 'output_tokens': 5, 'total_tokens': 48, 'input_token_details': {'audio': 0, 'cache_read': 0}, 'output_token_details': {'audio': 0, 'reasoning': 0}})"
      ]
     },
     "execution_count": 12,
     "metadata": {},
     "output_type": "execute_result"
    }
   ],
   "source": [
    "chain_with_history.invoke({\"question\": \"Whats my name\"}, config=config)"
   ]
  },
  {
   "cell_type": "code",
   "execution_count": null,
   "id": "0f345b81-e2c7-465e-9303-39ab4d4ef49b",
   "metadata": {},
   "outputs": [],
   "source": []
  }
 ],
 "metadata": {
  "kernelspec": {
   "display_name": "Python 3 (ipykernel)",
   "language": "python",
   "name": "python3"
  },
  "language_info": {
   "codemirror_mode": {
    "name": "ipython",
    "version": 3
   },
   "file_extension": ".py",
   "mimetype": "text/x-python",
   "name": "python",
   "nbconvert_exporter": "python",
   "pygments_lexer": "ipython3",
   "version": "3.12.7"
  }
 },
 "nbformat": 4,
 "nbformat_minor": 5
}
