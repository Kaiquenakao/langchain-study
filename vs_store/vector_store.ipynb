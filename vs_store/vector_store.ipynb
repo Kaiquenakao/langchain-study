{
 "cells": [
  {
   "cell_type": "markdown",
   "id": "25771290-7859-4f53-8814-05367ae253e7",
   "metadata": {},
   "source": [
    "## Vector Store\n",
    "\n",
    "vector store cuida do armazenamento de dados incorporados e da realização da pesquisa de vetores para você\n",
    "\n",
    "<img src=\"vector_store.png\"></img>"
   ]
  },
  {
   "cell_type": "markdown",
   "id": "f1bd51f3-e36a-4091-ac15-20277b497e3b",
   "metadata": {},
   "source": []
  }
 ],
 "metadata": {
  "kernelspec": {
   "display_name": "Python 3 (ipykernel)",
   "language": "python",
   "name": "python3"
  },
  "language_info": {
   "codemirror_mode": {
    "name": "ipython",
    "version": 3
   },
   "file_extension": ".py",
   "mimetype": "text/x-python",
   "name": "python",
   "nbconvert_exporter": "python",
   "pygments_lexer": "ipython3",
   "version": "3.12.5"
  }
 },
 "nbformat": 4,
 "nbformat_minor": 5
}
